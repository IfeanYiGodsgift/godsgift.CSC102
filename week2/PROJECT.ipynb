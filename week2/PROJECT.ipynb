{
 "cells": [
  {
   "cell_type": "code",
   "execution_count": null,
   "id": "353f3f42",
   "metadata": {},
   "outputs": [],
   "source": [
    "# python program for calculating simple interest\n",
    "# by God'sgift ifeanyi\n",
    "\n",
    "# welcom user\n",
    "\n",
    "print(\"Hello lets find simple interest\")\n",
    "\n",
    "#inputs for code\n",
    "print(\"Please input your principle\")\n",
    "principle = float(input())\n",
    "print(\"Please input your rate\")\n",
    "rate = float(input())\n",
    "print(\"Please input your time in years\")\n",
    "time = float(input())\n",
    "\n",
    "# calculating process\n",
    "simple_interest = principle*(1+(rate/100)*time)\n",
    "\n",
    "# display answers\n",
    "print(\"Your simple interest came down to :\")\n",
    "print(simple_interest)\n",
    "\n",
    "# thank you ✅"
   ]
  },
  {
   "cell_type": "code",
   "execution_count": null,
   "id": "735da043",
   "metadata": {},
   "outputs": [],
   "source": [
    "# python program for calculating compound interest\n",
    "# by God'sgift ifeanyi\n",
    "\n",
    "# welcom user\n",
    "\n",
    "print(\"Hello lets find compound interest\")\n",
    "\n",
    "#inputs for code\n",
    "print(\"Please input your principle\")\n",
    "principle = float(input())\n",
    "print(\"Please input your rate\")\n",
    "rate = float(input())\n",
    "print(\"Please input your time in years\")\n",
    "time = float(input())\n",
    "print(\"Please input number of times interest is compounded\")\n",
    "n = int(input())\n",
    "\n",
    "# calculating process\n",
    "compound_interest = principle*((1+(rate/n))**(n*time))\n",
    "\n",
    "# display answers\n",
    "print(\"Your compound interest came down to :\")\n",
    "print(compound_interest)\n",
    "\n",
    "# thank you ✅"
   ]
  },
  {
   "cell_type": "code",
   "execution_count": null,
   "id": "e614385c",
   "metadata": {},
   "outputs": [],
   "source": [
    "# python program for calculating compound interest\n",
    "# by God'sgift ifeanyi\n",
    "\n",
    "# welcome user\n",
    "\n",
    "print(\"Hello let's calculate your annuity plan\")\n",
    "\n",
    "# inputs for code\n",
    "PMT = float(input(\"Please input your payment: \")) # note you can write in your input section \n",
    "Rate = float(input(\"Please input your rate: \"))\n",
    "Years = float(input(\"Please input your time in years: \"))\n",
    "n = int(input(\"Please input number of times interest is compounded: \"))\n",
    "\n",
    "# calculating process\n",
    "Future_value = PMT * (((1 + (Rate / n)) ** (n * Years)) - 1) / (Rate / n)\n",
    "\n",
    "# display answers\n",
    "print()\n",
    "print(\"Your future value for your money is:\", Future_value)\n",
    "\n",
    "# thank you ✅\n"
   ]
  }
 ],
 "metadata": {
  "kernelspec": {
   "display_name": "Python 3 (ipykernel)",
   "language": "python",
   "name": "python3"
  },
  "language_info": {
   "codemirror_mode": {
    "name": "ipython",
    "version": 3
   },
   "file_extension": ".py",
   "mimetype": "text/x-python",
   "name": "python",
   "nbconvert_exporter": "python",
   "pygments_lexer": "ipython3",
   "version": "3.10.9"
  }
 },
 "nbformat": 4,
 "nbformat_minor": 5
}
