{
 "cells": [
  {
   "cell_type": "code",
   "execution_count": 3,
   "id": "7619ba3c",
   "metadata": {},
   "outputs": [
    {
     "name": "stdout",
     "output_type": "stream",
     "text": [
      "Enter the name of the vendor: Student Centre Cafeteria\n",
      "Student Centre Cafeteria\n",
      "Main Meal\tPrice (N)\n",
      "Chicken Fried Rice\t800\n",
      "Pomo Sauce\t300\n",
      "Spaghetti Jollof\t500\n",
      "Amala/Ewedu\t500\n",
      "Semo with Eforiro Soup\t500\n"
     ]
    }
   ],
   "source": [
    "from abc import ABC, abstractmethod\n",
    "\n",
    "class External_Vendors(ABC):\n",
    "    @abstractmethod\n",
    "    def menu(self):\n",
    "        pass\n",
    "\n",
    "class Cooperative_Cafeteria(External_Vendors):\n",
    "    def menu(self):\n",
    "        print(\"Cooperative Cafeteria\")\n",
    "        print(\"Main Meal\\tPrice (N)\")\n",
    "        print(\"Jollof Rice and Stew\\t200\")\n",
    "        print(\"White Rice and Stew\\t200\")\n",
    "        print(\"Fried Rice\\t200\")\n",
    "        print(\"Salad\\t100\")\n",
    "        print(\"Plantain\\t100\")\n",
    "\n",
    "class Faith_Hostel_Cafeteria(External_Vendors):\n",
    "    def menu(self):\n",
    "        print(\"Faith Hostel Cafeteria\")\n",
    "        print(\"Main Meal\\tPrice (N)\")\n",
    "        print(\"Fried Rice\\t400\")\n",
    "        print(\"White Rice and Stew\\t400\")\n",
    "        print(\"Jollof Rice\\t400\")\n",
    "        print(\"Beans\\t200\")\n",
    "        print(\"Chicken\\t1000\")\n",
    "\n",
    "class Student_Centre_Cafeteria(External_Vendors):\n",
    "    def menu(self):\n",
    "        print(\"Student Centre Cafeteria\")\n",
    "        print(\"Main Meal\\tPrice (N)\")\n",
    "        print(\"Chicken Fried Rice\\t800\")\n",
    "        print(\"Pomo Sauce\\t300\")\n",
    "        print(\"Spaghetti Jollof\\t500\")\n",
    "        print(\"Amala/Ewedu\\t500\")\n",
    "        print(\"Semo with Eforiro Soup\\t500\")\n",
    "\n",
    "vendor_name = input(\"Enter the name of the vendor: \")\n",
    "\n",
    "if vendor_name == \"Cooperative Cafeteria\":\n",
    "    vendor = Cooperative_Cafeteria()\n",
    "elif vendor_name == \"Faith Hostel Cafeteria\":\n",
    "    vendor = Faith_Hostel_Cafeteria()\n",
    "elif vendor_name == \"Student Centre Cafeteria\":\n",
    "    vendor = Student_Centre_Cafeteria()\n",
    "else:\n",
    "    print(\"Invalid vendor name\")\n",
    "    vendor = None\n",
    "\n",
    "if vendor is not None:\n",
    "    vendor.menu()\n"
   ]
  },
  {
   "cell_type": "code",
   "execution_count": null,
   "id": "db76de56",
   "metadata": {},
   "outputs": [],
   "source": []
  }
 ],
 "metadata": {
  "kernelspec": {
   "display_name": "Python 3 (ipykernel)",
   "language": "python",
   "name": "python3"
  },
  "language_info": {
   "codemirror_mode": {
    "name": "ipython",
    "version": 3
   },
   "file_extension": ".py",
   "mimetype": "text/x-python",
   "name": "python",
   "nbconvert_exporter": "python",
   "pygments_lexer": "ipython3",
   "version": "3.10.9"
  }
 },
 "nbformat": 4,
 "nbformat_minor": 5
}
