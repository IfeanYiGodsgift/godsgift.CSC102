{
 "cells": [
  {
   "cell_type": "code",
   "execution_count": 1,
   "id": "d46bf0c9",
   "metadata": {},
   "outputs": [
    {
     "name": "stdout",
     "output_type": "stream",
     "text": [
      "Enter the name of the club you support: Blue Jay FC\n",
      "Welcome to Blue Jay FC\n"
     ]
    }
   ],
   "source": [
    "from abc import ABC, abstractmethod\n",
    "\n",
    "class coup_de_ecriva(ABC):\n",
    "    @abstractmethod\n",
    "    def Fan_Page(self):\n",
    "        pass\n",
    "\n",
    "class FC_Cirok(coup_de_ecriva):\n",
    "    def Fan_Page(self):\n",
    "        print(\"Welcome to FC Cirok\")\n",
    "\n",
    "class Madiba_FC(coup_de_ecriva):\n",
    "    def Fan_Page(self):\n",
    "        print(\"Welcome to Madiba FC\")\n",
    "\n",
    "class Blue_Jay_FC(coup_de_ecriva):\n",
    "    def Fan_Page(self):\n",
    "        print(\"Welcome to Blue Jay FC\")\n",
    "\n",
    "class TSG_Walker(coup_de_ecriva):\n",
    "    def Fan_Page(self):\n",
    "        print(\"Welcome to TSG Walker\")\n",
    "\n",
    "club_name = input(\"Enter the name of the club you support: \")\n",
    "\n",
    "if club_name == \"FC Cirok\":\n",
    "    club = FC_Cirok()\n",
    "elif club_name == \"Madiba FC\":\n",
    "    club = Madiba_FC()\n",
    "elif club_name == \"Blue Jay FC\":\n",
    "    club = Blue_Jay_FC()\n",
    "elif club_name == \"TSG Walker\":\n",
    "    club = TSG_Walker()\n",
    "else:\n",
    "    print(\"Invalid club name\")\n",
    "    club = None\n",
    "\n",
    "if club is not None:\n",
    "    club.Fan_Page()\n"
   ]
  },
  {
   "cell_type": "code",
   "execution_count": null,
   "id": "d5011dc2",
   "metadata": {},
   "outputs": [],
   "source": []
  }
 ],
 "metadata": {
  "kernelspec": {
   "display_name": "Python 3 (ipykernel)",
   "language": "python",
   "name": "python3"
  },
  "language_info": {
   "codemirror_mode": {
    "name": "ipython",
    "version": 3
   },
   "file_extension": ".py",
   "mimetype": "text/x-python",
   "name": "python",
   "nbconvert_exporter": "python",
   "pygments_lexer": "ipython3",
   "version": "3.10.9"
  }
 },
 "nbformat": 4,
 "nbformat_minor": 5
}
