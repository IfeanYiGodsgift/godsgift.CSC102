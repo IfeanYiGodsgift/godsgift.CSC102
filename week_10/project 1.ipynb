{
 "cells": [
  {
   "cell_type": "code",
   "execution_count": 1,
   "id": "e3668207",
   "metadata": {},
   "outputs": [
    {
     "name": "stdout",
     "output_type": "stream",
     "text": [
      "Would you like to buy oranges? (y/n) y\n",
      "How many oranges would you like to buy? 3\n",
      "Thank you for your purchase! The cost of 3 oranges is $1.50.\n",
      "Thank you for your patronage!\n"
     ]
    }
   ],
   "source": [
    "class OrangeShop:\n",
    "    def __init__(self, stock=10, price=0.5):\n",
    "        self.stock = stock\n",
    "        self.price = price\n",
    "\n",
    "    def buy_oranges(self):\n",
    "        buy = input(\"Would you like to buy oranges? (y/n) \")\n",
    "        if buy.lower() == 'y':\n",
    "            quantity = int(input(\"How many oranges would you like to buy? \"))\n",
    "            if quantity > self.stock:\n",
    "                print(f\"Sorry, we only have {self.stock} oranges in stock. Please select a quantity less than or equal to {self.stock}.\")\n",
    "            else:\n",
    "                cost = quantity * self.price\n",
    "                self.stock -= quantity\n",
    "                print(f\"Thank you for your purchase! The cost of {quantity} oranges is ${cost:.2f}.\")\n",
    "                print(\"Thank you for your patronage!\")\n",
    "        else:\n",
    "            print(\"Thank you for visiting our shop!\")\n",
    "\n",
    "shop = OrangeShop()\n",
    "shop.buy_oranges()\n"
   ]
  },
  {
   "cell_type": "code",
   "execution_count": null,
   "id": "19d5a210",
   "metadata": {},
   "outputs": [],
   "source": []
  }
 ],
 "metadata": {
  "kernelspec": {
   "display_name": "Python 3 (ipykernel)",
   "language": "python",
   "name": "python3"
  },
  "language_info": {
   "codemirror_mode": {
    "name": "ipython",
    "version": 3
   },
   "file_extension": ".py",
   "mimetype": "text/x-python",
   "name": "python",
   "nbconvert_exporter": "python",
   "pygments_lexer": "ipython3",
   "version": "3.10.9"
  }
 },
 "nbformat": 4,
 "nbformat_minor": 5
}
