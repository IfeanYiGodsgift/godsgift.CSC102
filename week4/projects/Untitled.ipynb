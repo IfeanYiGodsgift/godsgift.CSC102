{
 "cells": [
  {
   "cell_type": "code",
   "execution_count": 2,
   "id": "f46cbbfa",
   "metadata": {},
   "outputs": [
    {
     "name": "stdout",
     "output_type": "stream",
     "text": [
      "Enter the value of A: 2\n",
      "Enter the value of B: 3\n",
      "Enter the value of C: 1\n",
      "Enter the value of D: 1\n",
      "The roots are:\n",
      "(-0.05091952418513934+0.7778302007985448j)\n",
      "(-0.20853164693657467-0.6868327993004556j)\n",
      "(-1.240548828878286-0.09099740149808921j)\n"
     ]
    }
   ],
   "source": [
    "import cmath\n",
    "\n",
    "# Input coefficients\n",
    "A = float(input(\"Enter the value of A: \"))\n",
    "B = float(input(\"Enter the value of B: \"))\n",
    "C = float(input(\"Enter the value of C: \"))\n",
    "D = float(input(\"Enter the value of D: \"))\n",
    "\n",
    "# Calculate intermediate values\n",
    "a = B / A\n",
    "b = C / A\n",
    "c = D / A\n",
    "Q = (3 * b - a**2) / 9\n",
    "R = (9 * a * b - 27 * c - 2 * a**3) / 54\n",
    "S = (R + cmath.sqrt(Q**3 + R**2))**(1/3)\n",
    "T = (R - cmath.sqrt(Q**3 + R**2))**(1/3)\n",
    "\n",
    "# Calculate roots\n",
    "x1 = S + T - a/3\n",
    "x2 = -(S + T)/2 - a/3 + 1j*(S - T)*cmath.sqrt(3)/2\n",
    "x3 = -(S + T)/2 - a/3 - 1j*(S - T)*cmath.sqrt(3)/2\n",
    "\n",
    "# Output roots\n",
    "print(\"The roots are:\")\n",
    "print(x1)\n",
    "print(x2)\n",
    "print(x3)"
   ]
  },
  {
   "cell_type": "code",
   "execution_count": 4,
   "id": "a6d2fdfb",
   "metadata": {},
   "outputs": [
    {
     "name": "stdout",
     "output_type": "stream",
     "text": [
      "Enter the coefficient of x^4: 2\n",
      "Enter the coefficient of x^3: 1\n",
      "Enter the coefficient of x^2: 2\n",
      "Enter the coefficient of x: 1\n",
      "Enter the constant term: 12\n",
      "The roots of the quartic equation are: [-1.12187933+1.17485287j -1.12187933-1.17485287j  0.87187933+1.23024694j\n",
      "  0.87187933-1.23024694j]\n"
     ]
    }
   ],
   "source": [
    "import numpy as np\n",
    "\n",
    "# Prompt the user to input the coefficients of the quartic equation\n",
    "A = float(input(\"Enter the coefficient of x^4: \"))\n",
    "B = float(input(\"Enter the coefficient of x^3: \"))\n",
    "C = float(input(\"Enter the coefficient of x^2: \"))\n",
    "D = float(input(\"Enter the coefficient of x: \"))\n",
    "E = float(input(\"Enter the constant term: \"))\n",
    "\n",
    "# Define the coefficients of the quartic equation\n",
    "coefficients = [A, B, C, D, E]\n",
    "\n",
    "# Find the roots of the quartic equation\n",
    "roots = np.roots(coefficients)\n",
    "\n",
    "# Print the roots\n",
    "print(\"The roots of the quartic equation are:\", roots)"
   ]
  },
  {
   "cell_type": "code",
   "execution_count": null,
   "id": "69a5b6c2",
   "metadata": {},
   "outputs": [],
   "source": []
  }
 ],
 "metadata": {
  "kernelspec": {
   "display_name": "Python 3 (ipykernel)",
   "language": "python",
   "name": "python3"
  },
  "language_info": {
   "codemirror_mode": {
    "name": "ipython",
    "version": 3
   },
   "file_extension": ".py",
   "mimetype": "text/x-python",
   "name": "python",
   "nbconvert_exporter": "python",
   "pygments_lexer": "ipython3",
   "version": "3.10.9"
  }
 },
 "nbformat": 4,
 "nbformat_minor": 5
}
