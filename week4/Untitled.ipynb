{
 "cells": [
  {
   "cell_type": "code",
   "execution_count": 1,
   "id": "7a40137c",
   "metadata": {},
   "outputs": [
    {
     "name": "stdout",
     "output_type": "stream",
     "text": [
      "Enter your state of origingreenwhich\n",
      "Your state of origin is:  greenwhich\n",
      "The first character is:  g\n",
      "The characters starting from 3rd to 5th are:  een\n",
      "The string starting from 3rd character is:  eenwhich\n",
      "State of origin two times greenwhichgreenwhich\n"
     ]
    }
   ],
   "source": [
    "str = input(\"Enter your state of origin\")\n",
    "\n",
    "print (\"Your state of origin is: \", str)\n",
    "print (\"The first character is: \", str[0])\n",
    "print (\"The characters starting from 3rd to 5th are: \", str[2:5])\n",
    "print (\"The string starting from 3rd character is: \", str[2:])\n",
    "print (\"State of origin two times\", str * 2)\n"
   ]
  },
  {
   "cell_type": "code",
   "execution_count": 5,
   "id": "bd13d1aa",
   "metadata": {},
   "outputs": [
    {
     "name": "stdout",
     "output_type": "stream",
     "text": [
      "Enter mass in kilograms: 76\n",
      "The energy equivalent to 76.0 kg of mass is 6.830539358399814e+18 joules.\n"
     ]
    }
   ],
   "source": [
    "#Input from user\n",
    "m = float(input(\"Enter mass in kilograms: \"))\n",
    "\n",
    "# Constant value for the speed of Light in m/s\n",
    "c = 299792458\n",
    "\n",
    "# Calculating energy using Einstein's equation \n",
    "energy = m * c ** 2\n",
    "\n",
    "# Displaying the result\n",
    "print(f\"The energy equivalent to {m} kg of mass is {energy} joules.\")\n"
   ]
  },
  {
   "cell_type": "code",
   "execution_count": null,
   "id": "968ad9c4",
   "metadata": {},
   "outputs": [],
   "source": [
    "list = ['Anaconda', 786,2.23,'Jupyter',70.2]\n",
    "shortlist = [321, 'Python']\n",
    "\n",
    "print(list)             \n",
    "print(list[0])\n",
    "print(list[1:3])        \n",
    "print(list[2:])                                  \n",
    "print(shortlist 2) \n",
    "print(list + shortlist) "
   ]
  }
 ],
 "metadata": {
  "kernelspec": {
   "display_name": "Python 3 (ipykernel)",
   "language": "python",
   "name": "python3"
  },
  "language_info": {
   "codemirror_mode": {
    "name": "ipython",
    "version": 3
   },
   "file_extension": ".py",
   "mimetype": "text/x-python",
   "name": "python",
   "nbconvert_exporter": "python",
   "pygments_lexer": "ipython3",
   "version": "3.10.9"
  }
 },
 "nbformat": 4,
 "nbformat_minor": 5
}
