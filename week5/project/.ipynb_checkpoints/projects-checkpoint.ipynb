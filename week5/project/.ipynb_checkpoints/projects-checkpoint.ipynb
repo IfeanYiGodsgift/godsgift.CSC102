{
 "cells": [
  {
   "cell_type": "code",
   "execution_count": 12,
   "id": "63fc5ea4",
   "metadata": {},
   "outputs": [
    {
     "name": "stdout",
     "output_type": "stream",
     "text": [
      "Girls:\n",
      "girls_names  girls_age  girls_height  girls_scores\n",
      "   Samantha         17           5.5            80\n",
      "       Jada         16           6.0            85\n",
      "       Jane         17           5.4            70\n",
      "     Claire         18           5.9            60\n",
      "  Elizabeth         16           5.6            76\n",
      "       Mary         18           5.5            66\n",
      "      Susan         17           6.1            87\n",
      "       Waje         20           6.0            95\n",
      "     Taibat         19           5.7            50\n",
      "     Lilian         17           5.5            49\n",
      "\n",
      "Boys:\n",
      "boys_names  boys_age  boys_height  boys_scores\n",
      "   Charles        19          5.7           74\n",
      "      Jude        16          5.9           87\n",
      "     James        18          5.8           75\n",
      "    Kelvin        17          6.1           68\n",
      "    Biodun        20          5.9           66\n",
      "      Wale        19          5.5           78\n",
      "     Kunle        16          6.1           87\n",
      "   Matthew        18          5.4           98\n",
      "       Tom        17          5.8           54\n",
      "    Kayode        19          5.7           60\n"
     ]
    }
   ],
   "source": [
    "# Define the data for girls\n",
    "girls = pd.DataFrame({ \n",
    "        'girls_names':['Samantha', 'Jada', 'Jane', 'Claire', 'Elizabeth', 'Mary', 'Susan', 'Waje', 'Taibat', 'Lilian'],\n",
    "        'girls_age' : [17, 16, 17, 18, 16, 18, 17, 20, 19, 17],\n",
    "        'girls_height' : [5.5, 6.0, 5.4, 5.9, 5.6, 5.5, 6.1, 6.0, 5.7, 5.5],\n",
    "        'girls_scores' : [80, 85, 70, 60, 76, 66, 87, 95, 50, 49]})\n",
    "\n",
    "# Define the data for boys\n",
    "boys = pd.DataFrame({\n",
    "        'boys_names' : ['Charles', 'Jude', 'James', 'Kelvin', 'Biodun', 'Wale', 'Kunle', 'Matthew', 'Tom', 'Kayode'],\n",
    "        'boys_age' : [19 ,16 ,18 ,17 ,20 ,19 ,16 ,18 ,17 ,19],\n",
    "        'boys_height' : [5.7 ,5.9 ,5.8 ,6.1 ,5.9 ,5.5 ,6.1 ,5.4 ,5.8 ,5.7],\n",
    "        'boys_scores' : [74 ,87 ,75 ,68 ,66 ,78 ,87 ,98 ,54 ,60]})\n",
    "#print data for girls \n",
    "print(\"Girls:\")\n",
    "print(girls.to_string(index=False))\n",
    "#print data for boys\n",
    "print(\"\\nBoys:\")\n",
    "print(boys.to_string(index=False))"
   ]
  },
  {
   "cell_type": "code",
   "execution_count": 1,
   "id": "ae7a7b4e",
   "metadata": {},
   "outputs": [
    {
     "name": "stdout",
     "output_type": "stream",
     "text": [
      "Enter the years of experience: 12\n",
      "Enter the age: 35\n",
      "The annual tax revenue for this staff member is: 1500000\n"
     ]
    }
   ],
   "source": [
    "# Input years of experience and age\n",
    "experience = int(input(\"Enter the years of experience: \"))\n",
    "age = int(input(\"Enter the age: \"))\n",
    "\n",
    "# Calculate ATR based on experience and age\n",
    "if experience > 25 and age >= 55:\n",
    "    atr = 5600000\n",
    "elif experience > 20 and age >= 45:\n",
    "    atr = 4480000\n",
    "elif experience > 10 and age >= 35:\n",
    "    atr = 1500000\n",
    "else:\n",
    "    atr = 550000\n",
    "\n",
    "# Output ATR\n",
    "print(\"The annual tax revenue for this staff member is:\", atr)"
   ]
  },
  {
   "cell_type": "code",
   "execution_count": null,
   "id": "73507db7",
   "metadata": {},
   "outputs": [],
   "source": []
  }
 ],
 "metadata": {
  "kernelspec": {
   "display_name": "Python 3 (ipykernel)",
   "language": "python",
   "name": "python3"
  },
  "language_info": {
   "codemirror_mode": {
    "name": "ipython",
    "version": 3
   },
   "file_extension": ".py",
   "mimetype": "text/x-python",
   "name": "python",
   "nbconvert_exporter": "python",
   "pygments_lexer": "ipython3",
   "version": "3.10.9"
  }
 },
 "nbformat": 4,
 "nbformat_minor": 5
}
