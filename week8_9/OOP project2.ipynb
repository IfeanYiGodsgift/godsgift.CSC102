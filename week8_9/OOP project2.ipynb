{
 "cells": [
  {
   "cell_type": "code",
   "execution_count": 3,
   "id": "c6a79ea2",
   "metadata": {},
   "outputs": [
    {
     "name": "stdout",
     "output_type": "stream",
     "text": [
      "Enter your location: PAU\n",
      "Enter the weight of your package (in kg): 25\n",
      "The cost of delivery to PAU for a package weighing 25.0kg is: 2000\n"
     ]
    }
   ],
   "source": [
    "def calculate_cost(location, weight):\n",
    "    if location == \"PAU\":\n",
    "        if weight >= 10:\n",
    "            return 2000\n",
    "        else:\n",
    "            return 1500\n",
    "    elif location == \"Epe\":\n",
    "        if weight >= 10:\n",
    "            return 5000\n",
    "        else:\n",
    "            return 4000\n",
    "    else:\n",
    "        return \"Invalid location\"\n",
    "\n",
    "location = input(\"Enter your location: \")\n",
    "weight = float(input(\"Enter the weight of your package (in kg): \"))\n",
    "\n",
    "cost = calculate_cost(location, weight)\n",
    "\n",
    "print(f\"The cost of delivery to {location} for a package weighing {weight}kg is: {cost}\")\n"
   ]
  },
  {
   "cell_type": "code",
   "execution_count": null,
   "id": "827e495f",
   "metadata": {},
   "outputs": [],
   "source": [
    "1. Define a function called calculate_cost with two parameters: location and weight\n",
    "    a. Check if location is \"PAU\"\n",
    "        i. If weight is greater than or equal to 10, return 2000\n",
    "        ii. Else, return 1500\n",
    "    b. Else if location is \"Epe\"\n",
    "        i. If weight is greater than or equal to 10, return 5000\n",
    "        ii. Else, return 4000\n",
    "    c. Else, return \"Invalid location\"\n",
    "2. Prompt the user to enter their location and store it in a variable called location\n",
    "3. Prompt the user to enter the weight of their package and store it in a variable called weight\n",
    "4. Call the calculate_cost function with location and weight as arguments and store the result in a variable called cost\n",
    "5. Print a message informing the user of the calculated delivery cost\n"
   ]
  }
 ],
 "metadata": {
  "kernelspec": {
   "display_name": "Python 3 (ipykernel)",
   "language": "python",
   "name": "python3"
  },
  "language_info": {
   "codemirror_mode": {
    "name": "ipython",
    "version": 3
   },
   "file_extension": ".py",
   "mimetype": "text/x-python",
   "name": "python",
   "nbconvert_exporter": "python",
   "pygments_lexer": "ipython3",
   "version": "3.10.9"
  }
 },
 "nbformat": 4,
 "nbformat_minor": 5
}
