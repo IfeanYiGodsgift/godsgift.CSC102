{
 "cells": [
  {
   "cell_type": "code",
   "execution_count": 3,
   "id": "b0962ed3",
   "metadata": {},
   "outputs": [
    {
     "name": "stdout",
     "output_type": "stream",
     "text": [
      "Enter employee name: berus\n",
      "Enter division: Retail Banking\n",
      "Mutual services offered in Retail Banking division:\n",
      "- Lines of credit\n",
      "- Investment management and accounts\n",
      "- Insurance\n",
      "Unique services offered in Retail Banking division:\n",
      "- Retirement and education accounts\n",
      "- Loans and mortgages\n",
      "- Checking and saving\n"
     ]
    }
   ],
   "source": [
    "class Zenith:\n",
    "    def __init__(self, name, division):\n",
    "        self.name = name\n",
    "        self.division = division\n",
    "\n",
    "    def mutual_services(self):\n",
    "        services = [\"Lines of credit\", \"Investment management and accounts\", \"Insurance\"]\n",
    "        print(f\"Mutual services offered in {self.division} division:\")\n",
    "        for service in services:\n",
    "            print(f\"- {service}\")\n",
    "\n",
    "    def unique_services(self):\n",
    "        pass\n",
    "\n",
    "class RetailBanking(Zenith):\n",
    "    def unique_services(self):\n",
    "        services = [\"Retirement and education accounts\", \"Loans and mortgages\", \"Checking and saving\"]\n",
    "        print(f\"Unique services offered in {self.division} division:\")\n",
    "        for service in services:\n",
    "            print(f\"- {service}\")\n",
    "\n",
    "class GlobalBanking(Zenith):\n",
    "    def unique_services(self):\n",
    "        services = [\"Multi-currency management services and products\", \"Foreign currency accounts\", \"Foreign currency credit cards\", \"Transborder advisory services\", \"Liquidity management\"]\n",
    "        print(f\"Unique services offered in {self.division} division:\")\n",
    "        for service in services:\n",
    "            print(f\"- {service}\")\n",
    "\n",
    "class CommercialBanking(Zenith):\n",
    "    def unique_services(self):\n",
    "        services = [\"Advisory services\"]\n",
    "        print(f\"Unique services offered in {self.division} division:\")\n",
    "        for service in services:\n",
    "            print(f\"- {service}\")\n",
    "\n",
    "name = input(\"Enter employee name: \")\n",
    "division = input(\"Enter division: \")\n",
    "\n",
    "if division == \"Retail Banking\":\n",
    "    employee = RetailBanking(name, division)\n",
    "elif division == \"Global Banking\":\n",
    "    employee = GlobalBanking(name, division)\n",
    "elif division == \"Commercial Banking\":\n",
    "    employee = CommercialBanking(name, division)\n",
    "else:\n",
    "    print(\"Invalid division\")\n",
    "    exit()\n",
    "\n",
    "employee.mutual_services()\n",
    "employee.unique_services()\n"
   ]
  },
  {
   "cell_type": "code",
   "execution_count": null,
   "id": "377ab910",
   "metadata": {},
   "outputs": [],
   "source": []
  }
 ],
 "metadata": {
  "kernelspec": {
   "display_name": "Python 3 (ipykernel)",
   "language": "python",
   "name": "python3"
  },
  "language_info": {
   "codemirror_mode": {
    "name": "ipython",
    "version": 3
   },
   "file_extension": ".py",
   "mimetype": "text/x-python",
   "name": "python",
   "nbconvert_exporter": "python",
   "pygments_lexer": "ipython3",
   "version": "3.10.9"
  }
 },
 "nbformat": 4,
 "nbformat_minor": 5
}
