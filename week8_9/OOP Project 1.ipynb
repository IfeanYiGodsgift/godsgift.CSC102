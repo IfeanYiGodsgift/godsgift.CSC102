{
 "cells": [
  {
   "cell_type": "code",
   "execution_count": 2,
   "id": "48278fd0",
   "metadata": {},
   "outputs": [
    {
     "name": "stdout",
     "output_type": "stream",
     "text": [
      "Enter your name: Mary Evans\n",
      "Welcome Mary Evans. Your task for today is: Delivering Items\n"
     ]
    }
   ],
   "source": [
    "import random\n",
    "\n",
    "class Employee:\n",
    "    def __init__(self, employees, tasks):\n",
    "        self.employees = employees\n",
    "        self.tasks = tasks\n",
    "        self.attendance = {}\n",
    "\n",
    "    def check_employee(self, name):\n",
    "        return name in self.employees\n",
    "\n",
    "    def take_attendance(self, name):\n",
    "        self.attendance[name] = True\n",
    "\n",
    "    def assign_task(self):\n",
    "        task_index = random.randint(0, len(self.tasks)-1)\n",
    "        return self.tasks[task_index]\n",
    "\n",
    "    def refuse_access(self):\n",
    "        print(\"Access denied. You are not an employee.\")\n",
    "\n",
    "employees = [\"Mary Evans\", \"Eyo Ishan\", \"Durojaiye Dare\", \"Adams Ali\", \"Andrew Ugwu\", \"Stella Mankinde\", \"Jane Akibo\", \"Ago James\", \"Michell Taiwo\", \"Abraham Jones\" , \"Nicole Anide\", \"Kosi Korso\", \"Adele Martins\", \"Emmanuel Ojo\", \"Ajayi Fatima\"]\n",
    "tasks = [\"Loading\", \"Transporting\", \"Reveiwing Orders\", \"Customer Service\", \"Delivering Items\"]\n",
    "\n",
    "employee_manager = Employee(employees, tasks)\n",
    "\n",
    "name = input(\"Enter your name: \")\n",
    "if employee_manager.check_employee(name):\n",
    "    employee_manager.take_attendance(name)\n",
    "    task = employee_manager.assign_task()\n",
    "    print(f\"Welcome {name}. Your task for today is: {task}\")\n",
    "else:\n",
    "    employee_manager.refuse_access()\n"
   ]
  },
  {
   "cell_type": "markdown",
   "id": "86d4403a",
   "metadata": {},
   "source": [
    "1. Import the random module\n",
    "2. Define a class called Employee with the following methods:\n",
    "    a. __init__ method that takes in two parameters: employees and tasks\n",
    "        i. Initialize instance variables employees, tasks, and attendance\n",
    "    b. check_employee method that takes in one parameter: name\n",
    "        i. Check if name is in employees and return True or False\n",
    "    c. take_attendance method that takes in one parameter: name\n",
    "        i. Set the value of attendance for the given name to True\n",
    "    d. assign_task method with no parameters\n",
    "        i. Generate a random index within the range of tasks\n",
    "        ii. Return the task at the generated index\n",
    "    e. refuse_access method with no parameters\n",
    "        i. Print \"Access denied. You are not an employee.\"\n",
    "3. Create a list of employee names called employees\n",
    "4. Create a list of tasks called tasks\n",
    "5. Create an instance of Employee called employee_manager with employees and tasks as arguments\n",
    "6. Prompt the user to enter their name and store it in a variable called name\n",
    "7. Check if name is in employees using the check_employee method of employee_manager\n",
    "    a. If True, call the take_attendance method of employee_manager with name as an argument\n",
    "        i. Call the assign_task method of employee_manager and store the result in a variable called task\n",
    "        ii. Print a welcome message with the user's name and assigned task\n",
    "    b. If False, call the refuse_access method of employee_manager\n"
   ]
  }
 ],
 "metadata": {
  "kernelspec": {
   "display_name": "Python 3 (ipykernel)",
   "language": "python",
   "name": "python3"
  },
  "language_info": {
   "codemirror_mode": {
    "name": "ipython",
    "version": 3
   },
   "file_extension": ".py",
   "mimetype": "text/x-python",
   "name": "python",
   "nbconvert_exporter": "python",
   "pygments_lexer": "ipython3",
   "version": "3.10.9"
  }
 },
 "nbformat": 4,
 "nbformat_minor": 5
}
