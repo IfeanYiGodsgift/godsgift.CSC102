{
 "cells": [
  {
   "cell_type": "code",
   "execution_count": 1,
   "id": "b745128e",
   "metadata": {},
   "outputs": [
    {
     "name": "stdout",
     "output_type": "stream",
     "text": [
      "I'm first call to user defined function!\n",
      "Again second call to the same function\n"
     ]
    }
   ],
   "source": [
    "def printme( str ):\n",
    "    #This is a print function\n",
    "    print (str);\n",
    "    return;\n",
    "\n",
    "printme(\"I'm first call to user defined function!\");\n",
    "printme(\"Again second call to the same function\");"
   ]
  },
  {
   "cell_type": "code",
   "execution_count": 2,
   "id": "2e06ca57",
   "metadata": {},
   "outputs": [
    {
     "name": "stdout",
     "output_type": "stream",
     "text": [
      "Values inside the function:  [10, 20, 30, [1, 2, 3, 4]]\n",
      "Values outside the function:  [10, 20, 30, [1, 2, 3, 4]]\n"
     ]
    }
   ],
   "source": [
    "def changeme( mylist):\n",
    "    #This changes a passed List\n",
    "    mylist.append([1,2,3,4])\n",
    "    print (\"Values inside the function: \", mylist)\n",
    "    return\n",
    "\n",
    "mylist = [10,20,30]\n",
    "changeme( mylist )\n",
    "print (\"Values outside the function: \", mylist)"
   ]
  },
  {
   "cell_type": "code",
   "execution_count": 3,
   "id": "1e800ee8",
   "metadata": {},
   "outputs": [
    {
     "name": "stdout",
     "output_type": "stream",
     "text": [
      "Values inside the function:  [1, 2, 3, 4]\n",
      "Values outside the function:  [10, 20, 30]\n"
     ]
    }
   ],
   "source": [
    "def changeme( mylist ):\n",
    "    #This changes a passed List\n",
    "    mylist = [1,2,3,4];\n",
    "    print(\"Values inside the function: \", mylist)\n",
    "    return\n",
    "\n",
    "mylist = [10,20,30];\n",
    "changeme( mylist );\n",
    "print (\"Values outside the function: \", mylist)"
   ]
  },
  {
   "cell_type": "code",
   "execution_count": 4,
   "id": "662ddf77",
   "metadata": {},
   "outputs": [
    {
     "name": "stdout",
     "output_type": "stream",
     "text": [
      "My string\n"
     ]
    }
   ],
   "source": [
    "def printme(str):\n",
    "    #This prints a passed string\n",
    "    print (str);\n",
    "    return;\n",
    "\n",
    "printme(str = \"My string\");"
   ]
  },
  {
   "cell_type": "code",
   "execution_count": 5,
   "id": "1737fa9d",
   "metadata": {},
   "outputs": [
    {
     "name": "stdout",
     "output_type": "stream",
     "text": [
      "Name:  miki\n",
      "Age:  50\n"
     ]
    }
   ],
   "source": [
    "def printinfo( name, age ):\n",
    "    #Test function\n",
    "    print (\"Name: \",name);\n",
    "    print (\"Age: \", age);\n",
    "    return;\n",
    "\n",
    "printinfo( age=50, name=\"miki\" );"
   ]
  },
  {
   "cell_type": "code",
   "execution_count": 6,
   "id": "eae52e92",
   "metadata": {},
   "outputs": [
    {
     "name": "stdout",
     "output_type": "stream",
     "text": [
      "Name:  miki\n",
      "Age:  50\n",
      "Name:  miki\n",
      "Age:  35\n"
     ]
    }
   ],
   "source": [
    "def printinfo(name, age = 35):\n",
    "    #test function\n",
    "    print (\"Name: \", name);\n",
    "    print(\"Age: \", age);\n",
    "    return;\n",
    "printinfo(age=50, name=\"miki\");\n",
    "printinfo(name=\"miki\");"
   ]
  },
  {
   "cell_type": "code",
   "execution_count": 7,
   "id": "6515629a",
   "metadata": {},
   "outputs": [
    {
     "ename": "SyntaxError",
     "evalue": "invalid syntax (1866163799.py, line 3)",
     "output_type": "error",
     "traceback": [
      "\u001b[1;36m  Cell \u001b[1;32mIn[7], line 3\u001b[1;36m\u001b[0m\n\u001b[1;33m    print (\"Output is: \") print (arg1)\u001b[0m\n\u001b[1;37m                          ^\u001b[0m\n\u001b[1;31mSyntaxError\u001b[0m\u001b[1;31m:\u001b[0m invalid syntax\n"
     ]
    }
   ],
   "source": [
    "def printinfo( arg1, *vartuple ):\n",
    "    #This is test\n",
    "    print (\"Output is: \") \n",
    "    print (arg1)\n",
    "    for var in vartuple:\n",
    "        print (var)\n",
    "        return;\n",
    "printinfo( 10 );\n",
    "printinfo( 70, 60, 50 );"
   ]
  },
  {
   "cell_type": "code",
   "execution_count": null,
   "id": "5af7018e",
   "metadata": {},
   "outputs": [],
   "source": []
  }
 ],
 "metadata": {
  "kernelspec": {
   "display_name": "Python 3 (ipykernel)",
   "language": "python",
   "name": "python3"
  },
  "language_info": {
   "codemirror_mode": {
    "name": "ipython",
    "version": 3
   },
   "file_extension": ".py",
   "mimetype": "text/x-python",
   "name": "python",
   "nbconvert_exporter": "python",
   "pygments_lexer": "ipython3",
   "version": "3.10.9"
  }
 },
 "nbformat": 4,
 "nbformat_minor": 5
}
