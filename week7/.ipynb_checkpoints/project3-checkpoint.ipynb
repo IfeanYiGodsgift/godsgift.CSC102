{
 "cells": [
  {
   "cell_type": "code",
   "execution_count": null,
   "id": "1209a128",
   "metadata": {},
   "outputs": [],
   "source": [
    "import csv\n",
    "\n",
    "def admission(department, jamb_score, key_subject_credits, interview_passed):\n",
    "    admitted = False\n",
    "    if department == \"Computer Science\":\n",
    "        if jamb_score >= 230 and key_subject_credits >= 5 and interview_passed:\n",
    "            admitted = True\n",
    "    elif department == \"Mass Communication\":\n",
    "        if jamb_score >= 220 and key_subject_credits >= 5 and interview_passed:\n",
    "            admitted = True\n",
    "    return admitted\n",
    "\n",
    "def store_candidate(name, department, jamb_score, key_subject_credits, interview_passed):\n",
    "    admitted = admission(department, jamb_score, key_subject_credits, interview_passed)\n",
    "    candidate_data = [name, department, jamb_score, key_subject_credits, interview_passed]\n",
    "    if admitted:\n",
    "        with open('admitted.csv', mode='a') as admitted_file:\n",
    "            writer = csv.writer(admitted_file)\n",
    "            writer.writerow(candidate_data)\n",
    "    else:\n",
    "        with open('not_admitted.csv', mode='a') as not_admitted_file:\n",
    "            writer = csv.writer(not_admitted_file)\n",
    "            writer.writerow(candidate_data)\n",
    "\n",
    "name = input(\"Enter the candidate's name: \")\n",
    "department = input(\"Enter the department: \")\n",
    "jamb_score = int(input(\"Enter the candidate's JAMB score: \"))\n",
    "key_subject_credits = int(input(\"Enter the number of credits in key subjects: \"))\n",
    "interview_passed = input(\"Did the candidate pass the interview (yes/no)? \") == \"yes\"\n",
    "store_candidate(name, department, jamb_score, key_subject_credits, interview_passed)\n"
   ]
  }
 ],
 "metadata": {
  "kernelspec": {
   "display_name": "Python 3 (ipykernel)",
   "language": "python",
   "name": "python3"
  },
  "language_info": {
   "codemirror_mode": {
    "name": "ipython",
    "version": 3
   },
   "file_extension": ".py",
   "mimetype": "text/x-python",
   "name": "python",
   "nbconvert_exporter": "python",
   "pygments_lexer": "ipython3",
   "version": "3.10.9"
  }
 },
 "nbformat": 4,
 "nbformat_minor": 5
}
