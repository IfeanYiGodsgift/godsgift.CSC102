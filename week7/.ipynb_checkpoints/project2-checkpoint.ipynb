{
 "cells": [
  {
   "cell_type": "code",
   "execution_count": 1,
   "id": "29e1a55e",
   "metadata": {},
   "outputs": [
    {
     "name": "stdout",
     "output_type": "stream",
     "text": [
      "Enter the delivery location: Epe\n",
      "Enter the weight of the package (in kg): 24\n",
      "The delivery cost is N5000\n"
     ]
    }
   ],
   "source": [
    "def delivery_cost(location, weight):\n",
    "    if location == \"Ibeju-Lekki\":\n",
    "        if weight >= 10:\n",
    "            cost = 2000\n",
    "        else:\n",
    "            cost = 1500\n",
    "    elif location == \"Epe\":\n",
    "        if weight >= 10:\n",
    "            cost = 5000\n",
    "        else:\n",
    "            cost = 4000\n",
    "    else:\n",
    "        cost = 0\n",
    "    return cost\n",
    "\n",
    "location = input(\"Enter the delivery location: \")\n",
    "weight = float(input(\"Enter the weight of the package (in kg): \"))\n",
    "cost = delivery_cost(location, weight)\n",
    "print(f\"The delivery cost is N{cost}\")\n"
   ]
  },
  {
   "cell_type": "code",
   "execution_count": null,
   "id": "82cc728f",
   "metadata": {},
   "outputs": [],
   "source": []
  }
 ],
 "metadata": {
  "kernelspec": {
   "display_name": "Python 3 (ipykernel)",
   "language": "python",
   "name": "python3"
  },
  "language_info": {
   "codemirror_mode": {
    "name": "ipython",
    "version": 3
   },
   "file_extension": ".py",
   "mimetype": "text/x-python",
   "name": "python",
   "nbconvert_exporter": "python",
   "pygments_lexer": "ipython3",
   "version": "3.10.9"
  }
 },
 "nbformat": 4,
 "nbformat_minor": 5
}
