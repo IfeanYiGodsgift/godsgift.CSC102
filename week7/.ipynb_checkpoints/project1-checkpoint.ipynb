{
 "cells": [
  {
   "cell_type": "code",
   "execution_count": 9,
   "id": "4ea75cbd",
   "metadata": {
    "scrolled": true
   },
   "outputs": [
    {
     "name": "stdout",
     "output_type": "stream",
     "text": [
      "Enter employee first name: dave\n",
      "Enter employee surname: stacey\n",
      "Enter employee department: Accounting\n"
     ]
    },
    {
     "ename": "KeyError",
     "evalue": "'First Name'",
     "output_type": "error",
     "traceback": [
      "\u001b[1;31m---------------------------------------------------------------------------\u001b[0m",
      "\u001b[1;31mKeyError\u001b[0m                                  Traceback (most recent call last)",
      "Cell \u001b[1;32mIn[9], line 19\u001b[0m\n\u001b[0;32m     16\u001b[0m         \u001b[38;5;28;01mif\u001b[39;00m \u001b[38;5;129;01mnot\u001b[39;00m employee_exists:\n\u001b[0;32m     17\u001b[0m             \u001b[38;5;28mprint\u001b[39m(\u001b[38;5;124mf\u001b[39m\u001b[38;5;124m\"\u001b[39m\u001b[38;5;124mSorry, employee with first name \u001b[39m\u001b[38;5;132;01m{\u001b[39;00mfirst_name\u001b[38;5;132;01m}\u001b[39;00m\u001b[38;5;124m, surname \u001b[39m\u001b[38;5;132;01m{\u001b[39;00msurname\u001b[38;5;132;01m}\u001b[39;00m\u001b[38;5;124m, and department \u001b[39m\u001b[38;5;132;01m{\u001b[39;00mdepartment\u001b[38;5;132;01m}\u001b[39;00m\u001b[38;5;124m does not exist.\u001b[39m\u001b[38;5;124m\"\u001b[39m)\n\u001b[1;32m---> 19\u001b[0m \u001b[43mverify_employee\u001b[49m\u001b[43m(\u001b[49m\u001b[43m)\u001b[49m\n",
      "Cell \u001b[1;32mIn[9], line 11\u001b[0m, in \u001b[0;36mverify_employee\u001b[1;34m()\u001b[0m\n\u001b[0;32m      9\u001b[0m employee_exists \u001b[38;5;241m=\u001b[39m \u001b[38;5;28;01mFalse\u001b[39;00m\n\u001b[0;32m     10\u001b[0m \u001b[38;5;28;01mfor\u001b[39;00m row \u001b[38;5;129;01min\u001b[39;00m csv_reader:\n\u001b[1;32m---> 11\u001b[0m     \u001b[38;5;28;01mif\u001b[39;00m \u001b[43mrow\u001b[49m\u001b[43m[\u001b[49m\u001b[38;5;124;43m'\u001b[39;49m\u001b[38;5;124;43mFirst Name\u001b[39;49m\u001b[38;5;124;43m'\u001b[39;49m\u001b[43m]\u001b[49m\u001b[38;5;241m.\u001b[39mstrip() \u001b[38;5;241m==\u001b[39m first_name \u001b[38;5;129;01mand\u001b[39;00m row[\u001b[38;5;124m'\u001b[39m\u001b[38;5;124mSurname\u001b[39m\u001b[38;5;124m'\u001b[39m]\u001b[38;5;241m.\u001b[39mstrip() \u001b[38;5;241m==\u001b[39m surname \u001b[38;5;129;01mand\u001b[39;00m row[\u001b[38;5;124m'\u001b[39m\u001b[38;5;124mDepartment\u001b[39m\u001b[38;5;124m'\u001b[39m]\u001b[38;5;241m.\u001b[39mstrip() \u001b[38;5;241m==\u001b[39m department:\n\u001b[0;32m     12\u001b[0m         employee_exists \u001b[38;5;241m=\u001b[39m \u001b[38;5;28;01mTrue\u001b[39;00m\n\u001b[0;32m     13\u001b[0m         \u001b[38;5;28mprint\u001b[39m(\u001b[38;5;124mf\u001b[39m\u001b[38;5;124m\"\u001b[39m\u001b[38;5;124mWelcome \u001b[39m\u001b[38;5;132;01m{\u001b[39;00mfirst_name\u001b[38;5;132;01m}\u001b[39;00m\u001b[38;5;124m \u001b[39m\u001b[38;5;132;01m{\u001b[39;00msurname\u001b[38;5;132;01m}\u001b[39;00m\u001b[38;5;124m from \u001b[39m\u001b[38;5;132;01m{\u001b[39;00mdepartment\u001b[38;5;132;01m}\u001b[39;00m\u001b[38;5;124m department!\u001b[39m\u001b[38;5;124m\"\u001b[39m)\n",
      "\u001b[1;31mKeyError\u001b[0m: 'First Name'"
     ]
    }
   ],
   "source": [
    "import csv\n",
    "\n",
    "def verify_employee():\n",
    "    with open('jt-ventures.csv') as csv_file:\n",
    "        csv_reader = csv.DictReader(csv_file)\n",
    "        first_name = input(\"Enter employee first name: \").strip()\n",
    "        surname = input(\"Enter employee surname: \").strip()\n",
    "        department = input(\"Enter employee department: \").strip()\n",
    "        employee_exists = False\n",
    "        for row in csv_reader:\n",
    "            if row['FIRST NAME'].strip() == first_name and row['SURNAME'].strip() == surname and row['DEPARTMENT'].strip() == department:\n",
    "                employee_exists = True\n",
    "                print(f\"Welcome {first_name} {surname} from {department} department!\")\n",
    "                print(f\"Company Profile: {row['Company Profile']}\")\n",
    "                break\n",
    "        if not employee_exists:\n",
    "            print(f\"Sorry, employee with first name {first_name}, surname {surname}, and department {department} does not exist.\")\n",
    "\n",
    "verify_employee()"
   ]
  },
  {
   "cell_type": "code",
   "execution_count": null,
   "id": "179a1050",
   "metadata": {},
   "outputs": [],
   "source": []
  }
 ],
 "metadata": {
  "kernelspec": {
   "display_name": "Python 3 (ipykernel)",
   "language": "python",
   "name": "python3"
  },
  "language_info": {
   "codemirror_mode": {
    "name": "ipython",
    "version": 3
   },
   "file_extension": ".py",
   "mimetype": "text/x-python",
   "name": "python",
   "nbconvert_exporter": "python",
   "pygments_lexer": "ipython3",
   "version": "3.10.9"
  }
 },
 "nbformat": 4,
 "nbformat_minor": 5
}
