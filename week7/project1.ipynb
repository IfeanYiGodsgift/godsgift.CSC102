{
 "cells": [
  {
   "cell_type": "code",
   "execution_count": 10,
   "id": "4751d085",
   "metadata": {
    "scrolled": true
   },
   "outputs": [
    {
     "name": "stdout",
     "output_type": "stream",
     "text": [
      "Enter employee first name: DAVE\n",
      "Enter employee surname: Stacey\n",
      "Enter employee department: Accounting\n",
      "Sorry, employee with first name DAVE, surname Stacey, and department Accounting does not exist.\n"
     ]
    }
   ],
   "source": [
    "import csv\n",
    "\n",
    "def verify_employee():\n",
    "    with open('jt-ventures.csv') as csv_file:\n",
    "        csv_reader = csv.DictReader(csv_file)\n",
    "        first_name = input(\"Enter employee first name: \").strip()\n",
    "        surname = input(\"Enter employee surname: \").strip()\n",
    "        department = input(\"Enter employee department: \").strip()\n",
    "        employee_exists = False\n",
    "        for row in csv_reader:\n",
    "            if row['FIRST NAME'].strip() == first_name and row['SURNAME'].strip() == surname and row['DEPARTMENT'].strip() == department:\n",
    "                employee_exists = True\n",
    "                print(f\"Welcome {first_name} {surname} from {department} department!\")\n",
    "                print(f\"Company Profile: {row['Company Profile']}\")\n",
    "                break\n",
    "        if not employee_exists:\n",
    "            print(f\"Sorry, employee with first name {first_name}, surname {surname}, and department {department} does not exist.\")\n",
    "\n",
    "verify_employee()"
   ]
  },
  {
   "cell_type": "code",
   "execution_count": null,
   "id": "d4e4c7c7",
   "metadata": {},
   "outputs": [],
   "source": []
  }
 ],
 "metadata": {
  "kernelspec": {
   "display_name": "Python 3 (ipykernel)",
   "language": "python",
   "name": "python3"
  },
  "language_info": {
   "codemirror_mode": {
    "name": "ipython",
    "version": 3
   },
   "file_extension": ".py",
   "mimetype": "text/x-python",
   "name": "python",
   "nbconvert_exporter": "python",
   "pygments_lexer": "ipython3",
   "version": "3.10.9"
  }
 },
 "nbformat": 4,
 "nbformat_minor": 5
}
