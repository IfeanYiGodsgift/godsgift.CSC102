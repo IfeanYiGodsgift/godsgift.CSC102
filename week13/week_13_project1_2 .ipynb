{
 "cells": [
  {
   "cell_type": "code",
   "execution_count": null,
   "id": "0fdb91da",
   "metadata": {},
   "outputs": [],
   "source": [
    "#PROJECT1\n",
    "import pandas as pd\n",
    "students = []\n",
    "num_students = int(input(\"Enter the number of students: \"))\n",
    "for i in range(num_students):\n",
    "    print(f\"\\nStudent {i+1}\")\n",
    "    name = input(\"Enter student name: \")\n",
    "    matric_number = input(\"Enter matric number: \")\n",
    "    department = input(\"Enter department: \")\n",
    "    level = input(\"Enter level: \")\n",
    "\n",
    "    student = {\n",
    "        'Student Name': name,\n",
    "        'Matric Number': matric_number,\n",
    "        'Department': department,\n",
    "        'Level': level\n",
    "    }\n",
    "\n",
    "    students.append(student)\n",
    "\n",
    "df = pd.DataFrame(students)\n",
    "print(\"\\nStudent Details:\")\n",
    "print(df)\n",
    "df.to_excel('student_details.xlsx', index=False)\n",
    "#the above is pert of Godsgift ifeanyi's intelectual property\n",
    "#BY GODSGIFT"
   ]
  },
  {
   "cell_type": "code",
   "execution_count": 1,
   "id": "4d042ed1",
   "metadata": {},
   "outputs": [
    {
     "name": "stdout",
     "output_type": "stream",
     "text": [
      "Excel file has been created\n"
     ]
    }
   ],
   "source": [
    "#PROJECT2\n",
    "import pandas as pd\n",
    "\n",
    "# Define the company data🥸🥸\n",
    "companies = [\n",
    "    {\n",
    "        'Company': 'Enron Corporation',\n",
    "        'Founded': '1987',\n",
    "        'Assets': 1000000,\n",
    "        'Liabilities': 200000\n",
    "    },\n",
    "    {\n",
    "        'Company': 'Anderson Corporation',\n",
    "        'Founded': '1936',\n",
    "        'Assets': 1500000,\n",
    "        'Liabilities': 500000\n",
    "    },\n",
    "    {\n",
    "        'Company': 'GK Jones',\n",
    "        'Founded': '2001',\n",
    "        'Assets': 3000000,\n",
    "        'Liabilities': 1500000\n",
    "    },\n",
    "    {\n",
    "        'Company': 'Mica',\n",
    "        'Founded': '1996',\n",
    "        'Assets': 250000,\n",
    "        'Liabilities': 50000\n",
    "    },\n",
    "    {\n",
    "        'Company': 'Dune Industries',\n",
    "        'Founded': '2008',\n",
    "        'Assets': 800000,\n",
    "        'Liabilities': 300000\n",
    "    }\n",
    "]\n",
    "\n",
    "# Calculate the leverage percentage for each company✅✅\n",
    "for company in companies:\n",
    "    assets = company['Assets']\n",
    "    liabilities = company['Liabilities']\n",
    "    leverage = (assets - liabilities) / assets * 100\n",
    "    company['Leverage(%)'] = leverage\n",
    "\n",
    "df = pd.DataFrame(companies)\n",
    "df.to_excel('company_data.xlsx', index=False)\n",
    "print(\"Excel file has been created\")\n",
    "#the above is pert of Godsgift ifeanyi's intelectual property\n",
    "#BY GODSGIFT\n"
   ]
  },
  {
   "cell_type": "code",
   "execution_count": null,
   "id": "3bbc6302",
   "metadata": {},
   "outputs": [],
   "source": []
  }
 ],
 "metadata": {
  "kernelspec": {
   "display_name": "Python 3 (ipykernel)",
   "language": "python",
   "name": "python3"
  },
  "language_info": {
   "codemirror_mode": {
    "name": "ipython",
    "version": 3
   },
   "file_extension": ".py",
   "mimetype": "text/x-python",
   "name": "python",
   "nbconvert_exporter": "python",
   "pygments_lexer": "ipython3",
   "version": "3.10.9"
  }
 },
 "nbformat": 4,
 "nbformat_minor": 5
}
