{
 "cells": [
  {
   "cell_type": "code",
   "execution_count": 1,
   "id": "aa68f0db",
   "metadata": {},
   "outputs": [
    {
     "name": "stdout",
     "output_type": "stream",
     "text": [
      "The data has been saved to cadbury_market.csv\n"
     ]
    }
   ],
   "source": [
    "import pandas as pd\n",
    "\n",
    "# Create a DataFrame containing information about Cadbury Nigeria Plc's products and brands\n",
    "data = {'Product': ['Refreshment Beverages', 'Confectionery', 'Intermediate Cocoa Products'],\n",
    "        'Brands': [['CADBURY BOURNVITA', 'CADBURY 3-in-1 HOT CHOCOLATE'], ['TOMTOM CLASSIC', 'TOMTOM STRAWBERRY', 'BUTTERMINT'], ['COCOA POWDER', 'COCOA BUTTER']]}\n",
    "df = pd.DataFrame(data)\n",
    "\n",
    "# Save the DataFrame to a CSV file\n",
    "df.to_csv('cadbury_market.csv', index=False)\n",
    "\n",
    "# Output success message\n",
    "print(\"The data has been saved to cadbury_market.csv\")"
   ]
  },
  {
   "cell_type": "code",
   "execution_count": null,
   "id": "45ceca00",
   "metadata": {},
   "outputs": [],
   "source": []
  }
 ],
 "metadata": {
  "kernelspec": {
   "display_name": "Python 3 (ipykernel)",
   "language": "python",
   "name": "python3"
  },
  "language_info": {
   "codemirror_mode": {
    "name": "ipython",
    "version": 3
   },
   "file_extension": ".py",
   "mimetype": "text/x-python",
   "name": "python",
   "nbconvert_exporter": "python",
   "pygments_lexer": "ipython3",
   "version": "3.10.9"
  }
 },
 "nbformat": 4,
 "nbformat_minor": 5
}
